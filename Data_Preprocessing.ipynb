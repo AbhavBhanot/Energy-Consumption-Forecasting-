{
  "cells": [
    {
      "cell_type": "code",
      "execution_count": null,
      "id": "a4129ba5",
      "metadata": {
        "_cell_guid": "b1076dfc-b9ad-4769-8c92-a6c4dae69d19",
        "_uuid": "8f2839f25d086af736a60e9eeb907d3b93b6e0e5",
        "execution": {
          "iopub.execute_input": "2024-12-20T10:35:11.022565Z",
          "iopub.status.busy": "2024-12-20T10:35:11.022368Z",
          "iopub.status.idle": "2024-12-20T10:35:11.609627Z",
          "shell.execute_reply": "2024-12-20T10:35:11.608606Z"
        },
        "papermill": {
          "duration": 0.591144,
          "end_time": "2024-12-20T10:35:11.611212",
          "exception": false,
          "start_time": "2024-12-20T10:35:11.020068",
          "status": "completed"
        },
        "tags": [],
        "id": "a4129ba5",
        "outputId": "e411e168-1c05-4b43-ca7f-e20fcfee3cb4"
      },
      "outputs": [
        {
          "name": "stdout",
          "output_type": "stream",
          "text": [
            "/kaggle/input/energy-consumption/household_power_consumption.txt\n"
          ]
        }
      ],
      "source": [
        "import numpy as np\n",
        "import pandas as pd\n",
        "import os\n",
        "for dirname, _, filenames in os.walk('/kaggle/input'):\n",
        "    for filename in filenames:\n",
        "        print(os.path.join(dirname, filename))"
      ]
    },
    {
      "cell_type": "code",
      "execution_count": null,
      "id": "b730d199",
      "metadata": {
        "execution": {
          "iopub.execute_input": "2024-12-20T10:35:11.615652Z",
          "iopub.status.busy": "2024-12-20T10:35:11.615363Z",
          "iopub.status.idle": "2024-12-20T11:09:30.343901Z",
          "shell.execute_reply": "2024-12-20T11:09:30.343050Z"
        },
        "papermill": {
          "duration": 2058.7335,
          "end_time": "2024-12-20T11:09:30.346644",
          "exception": false,
          "start_time": "2024-12-20T10:35:11.613144",
          "status": "completed"
        },
        "tags": [],
        "id": "b730d199",
        "outputId": "febdaeca-bf27-45fa-9115-1e5b23bf508d"
      },
      "outputs": [
        {
          "name": "stderr",
          "output_type": "stream",
          "text": [
            "<ipython-input-2-2bebf07a463a>:34: DtypeWarning: Columns (2,3,4,5,6,7) have mixed types. Specify dtype option on import or set low_memory=False.\n",
            "  df = pd.read_csv(intermediate_csv)\n"
          ]
        },
        {
          "name": "stdout",
          "output_type": "stream",
          "text": [
            "Final CSV saved at /kaggle/working/final_data.csv\n"
          ]
        }
      ],
      "source": [
        "import pandas as pd\n",
        "import numpy as np"
      ]
    },
    {
      "cell_type": "code",
      "execution_count": null,
      "id": "a0738414",
      "metadata": {
        "papermill": {
          "duration": 0.001206,
          "end_time": "2024-12-20T11:09:30.349428",
          "exception": false,
          "start_time": "2024-12-20T11:09:30.348222",
          "status": "completed"
        },
        "tags": [],
        "id": "a0738414"
      },
      "outputs": [],
      "source": [
        "def parse_text_to_csv(input_text_file, output_csv_file):\n",
        "    # Read the text file\n",
        "    with open(input_text_file, 'r') as file:\n",
        "        lines = file.readlines()\n",
        "\n",
        "    # Process each line to handle missing values\n",
        "    processed_lines = []\n",
        "    for line in lines:\n",
        "        # Replace consecutive semicolons with a placeholder for missing values\n",
        "        line = line.replace(';;', 'NaN')\n",
        "        # Split the line into columns\n",
        "        columns = line.strip().split(';')\n",
        "        processed_lines.append(columns)\n",
        "\n",
        "    # Convert the processed lines into a DataFrame\n",
        "    df = pd.DataFrame(processed_lines)\n",
        "\n",
        "    # Write the DataFrame to a CSV file\n",
        "    df.to_csv(output_csv_file, index=False, header=False)"
      ]
    },
    {
      "cell_type": "code",
      "source": [
        "# File paths\n",
        "input_text_file = '/kaggle/input/energy-consumption/household_power_consumption.txt'\n",
        "intermediate_csv = '/kaggle/working/household_power_consumption.csv'\n",
        "final_csv = '/kaggle/working/final_data.csv'"
      ],
      "metadata": {
        "id": "Qh66hXkt4ipw"
      },
      "id": "Qh66hXkt4ipw",
      "execution_count": null,
      "outputs": []
    },
    {
      "cell_type": "code",
      "source": [
        "# Step 1: Parse the text file into CSV format\n",
        "parse_text_to_csv(input_text_file, intermediate_csv)"
      ],
      "metadata": {
        "id": "qF2eZxt94ky7"
      },
      "id": "qF2eZxt94ky7",
      "execution_count": null,
      "outputs": []
    },
    {
      "cell_type": "code",
      "source": [
        "# Step 2: Load the CSV file and replace '?' with NaN\n",
        "df = pd.read_csv(intermediate_csv)\n",
        "df.replace(\"?\", np.nan, inplace=True)"
      ],
      "metadata": {
        "id": "aq2AT6so4mv9"
      },
      "id": "aq2AT6so4mv9",
      "execution_count": null,
      "outputs": []
    },
    {
      "cell_type": "code",
      "source": [
        "# Step 3: Apply spline interpolation for numeric columns\n",
        "df_interpolated = df.apply(lambda col: col.interpolate(method='spline', order=3) if col.dtype in ['float64', 'int64'] else col)"
      ],
      "metadata": {
        "id": "dVfbyxbA4qhY"
      },
      "id": "dVfbyxbA4qhY",
      "execution_count": null,
      "outputs": []
    },
    {
      "cell_type": "code",
      "source": [
        "# Step 4: Round the values and save the final result\n",
        "df_interpolated = df_interpolated.round(3)\n",
        "df_interpolated.to_csv(final_csv, index=False)"
      ],
      "metadata": {
        "id": "pF1sIxIy4s57"
      },
      "id": "pF1sIxIy4s57",
      "execution_count": null,
      "outputs": []
    },
    {
      "cell_type": "code",
      "source": [
        "print(f\"Final CSV saved at {final_csv}\")"
      ],
      "metadata": {
        "id": "DzTxfXWY4vYi"
      },
      "id": "DzTxfXWY4vYi",
      "execution_count": null,
      "outputs": []
    }
  ],
  "metadata": {
    "kaggle": {
      "accelerator": "nvidiaTeslaT4",
      "dataSources": [
        {
          "datasetId": 6342659,
          "sourceId": 10253799,
          "sourceType": "datasetVersion"
        }
      ],
      "dockerImageVersionId": 30823,
      "isGpuEnabled": true,
      "isInternetEnabled": true,
      "language": "python",
      "sourceType": "notebook"
    },
    "kernelspec": {
      "display_name": "Python 3",
      "language": "python",
      "name": "python3"
    },
    "language_info": {
      "codemirror_mode": {
        "name": "ipython",
        "version": 3
      },
      "file_extension": ".py",
      "mimetype": "text/x-python",
      "name": "python",
      "nbconvert_exporter": "python",
      "pygments_lexer": "ipython3",
      "version": "3.10.12"
    },
    "papermill": {
      "default_parameters": {},
      "duration": 2061.871042,
      "end_time": "2024-12-20T11:09:30.869931",
      "environment_variables": {},
      "exception": null,
      "input_path": "__notebook__.ipynb",
      "output_path": "__notebook__.ipynb",
      "parameters": {},
      "start_time": "2024-12-20T10:35:08.998889",
      "version": "2.6.0"
    },
    "colab": {
      "provenance": []
    }
  },
  "nbformat": 4,
  "nbformat_minor": 5
}